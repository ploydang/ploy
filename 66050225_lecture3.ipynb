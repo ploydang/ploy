{
  "cells": [
    {
      "cell_type": "markdown",
      "metadata": {
        "id": "view-in-github",
        "colab_type": "text"
      },
      "source": [
        "<a href=\"https://colab.research.google.com/github/ploydang/ploy/blob/main/66050225_lecture3.ipynb\" target=\"_parent\"><img src=\"https://colab.research.google.com/assets/colab-badge.svg\" alt=\"Open In Colab\"/></a>"
      ]
    },
    {
      "cell_type": "markdown",
      "id": "cabd5fd9-d869-49bc-a7d6-af611206c62b",
      "metadata": {
        "editable": false,
        "tags": [],
        "id": "cabd5fd9-d869-49bc-a7d6-af611206c62b"
      },
      "source": [
        "![](https://raw.githubusercontent.com/nayot/emag-jupyter/refs/heads/main/pics/lecture_banner.webp)\n",
        "# LECTURE 03 Coulomb's Law\n",
        "\n",
        "# 514336 Engineering Electromagnetic Field"
      ]
    },
    {
      "cell_type": "markdown",
      "id": "9c5cbdd8-7b0b-4e8f-99e9-aa349d41f0b1",
      "metadata": {
        "editable": false,
        "tags": [],
        "id": "9c5cbdd8-7b0b-4e8f-99e9-aa349d41f0b1"
      },
      "source": [
        "## กฎของคูลอมป์\n",
        "**ตัวอย่าง 2.1**\n",
        "กำหนดให้มีประจุ $Q=3\\times 10^{-4}~\\mathrm{C}$ วางอยู่ที่จุด $M(1, 2, 3)$ และประจุ $Q_2=-10^{-4}~\\mathrm{C}$ วางอยู่ที่จุด $N(2, 0, 5)$ ในสุญญากาศ จงหาแรงที่กระทำกับประจุ $Q_2$ เนื่องจากประจุ $Q_1$\n",
        "\n",
        "![](https://github.com/nayot/emag-jupyter/blob/main/pics/coulomb.png?raw=True)\n",
        "\n",
        "**หมายเหตุ** Code ต่อไปนี้มีการเรียกใช้ค่าคงที่ทางวิทยาศาสตร์จาก package scipy หากยังไม่มี ให้ !pip install scipy"
      ]
    },
    {
      "cell_type": "code",
      "execution_count": null,
      "id": "6347c9b6-7886-4bf6-98ca-3852a5797dd6",
      "metadata": {
        "deletable": false,
        "editable": false,
        "nbgrader": {
          "cell_type": "code",
          "checksum": "d083e63f0f67d1e779bb7bb8227037af",
          "grade": false,
          "grade_id": "cell-8a62529a69805cad",
          "locked": true,
          "schema_version": 3,
          "solution": false,
          "task": false
        },
        "tags": [],
        "id": "6347c9b6-7886-4bf6-98ca-3852a5797dd6"
      },
      "outputs": [],
      "source": [
        "!pip install scipy\n",
        "import sympy as smp\n",
        "from scipy.constants import epsilon_0, pi"
      ]
    },
    {
      "cell_type": "code",
      "execution_count": null,
      "id": "dfd1a15b-50f6-4672-8581-954399926137",
      "metadata": {
        "editable": true,
        "tags": [],
        "id": "dfd1a15b-50f6-4672-8581-954399926137"
      },
      "outputs": [],
      "source": [
        "x, y, z = smp.symbols('x y z')\n"
      ]
    },
    {
      "cell_type": "code",
      "execution_count": null,
      "id": "e7a317b1-142f-49f1-bfac-2eeb85557fdf",
      "metadata": {
        "editable": true,
        "tags": [],
        "id": "e7a317b1-142f-49f1-bfac-2eeb85557fdf",
        "outputId": "c4b9392e-e9b0-4e4b-eaa7-c0b5407868c6",
        "colab": {
          "base_uri": "https://localhost:8080/",
          "height": 78
        }
      },
      "outputs": [
        {
          "output_type": "execute_result",
          "data": {
            "text/plain": [
              "Matrix([\n",
              "[ 1],\n",
              "[-2],\n",
              "[ 2]])"
            ],
            "text/latex": "$\\displaystyle \\left[\\begin{matrix}1\\\\-2\\\\2\\end{matrix}\\right]$"
          },
          "metadata": {},
          "execution_count": 4
        }
      ],
      "source": [
        "# หา Displacement Vector R_12\n",
        "r1 = smp.Matrix([1, 2, 3])\n",
        "r2 = smp.Matrix([2, 0, 5])\n",
        "\n",
        "R = r2 - r1\n",
        "R"
      ]
    },
    {
      "cell_type": "code",
      "execution_count": null,
      "id": "7392fd27-5e0a-4418-a74e-d4fca4e35330",
      "metadata": {
        "editable": true,
        "tags": [],
        "id": "7392fd27-5e0a-4418-a74e-d4fca4e35330",
        "outputId": "229fd421-5743-419f-a3ff-f5bef63bfa10",
        "colab": {
          "base_uri": "https://localhost:8080/",
          "height": 78
        }
      },
      "outputs": [
        {
          "output_type": "execute_result",
          "data": {
            "text/plain": [
              "Matrix([\n",
              "[ 1/3],\n",
              "[-2/3],\n",
              "[ 2/3]])"
            ],
            "text/latex": "$\\displaystyle \\left[\\begin{matrix}\\frac{1}{3}\\\\- \\frac{2}{3}\\\\\\frac{2}{3}\\end{matrix}\\right]$"
          },
          "metadata": {},
          "execution_count": 6
        }
      ],
      "source": [
        "# หา Unit Vector a_12\n",
        "a_12 = R / R.norm()\n",
        "a_12"
      ]
    },
    {
      "cell_type": "code",
      "execution_count": null,
      "id": "77d76ea6-a64c-4f81-852a-971ee0d697f0",
      "metadata": {
        "editable": true,
        "tags": [],
        "id": "77d76ea6-a64c-4f81-852a-971ee0d697f0",
        "outputId": "62921124-9fc7-4509-9b80-c18a74449cd7",
        "colab": {
          "base_uri": "https://localhost:8080/",
          "height": 78
        }
      },
      "outputs": [
        {
          "output_type": "execute_result",
          "data": {
            "text/plain": [
              "Matrix([\n",
              "[-9.98616865806797],\n",
              "[ 19.9723373161359],\n",
              "[-19.9723373161359]])"
            ],
            "text/latex": "$\\displaystyle \\left[\\begin{matrix}-9.98616865806797\\\\19.9723373161359\\\\-19.9723373161359\\end{matrix}\\right]$"
          },
          "metadata": {},
          "execution_count": 10
        }
      ],
      "source": [
        "# หาแรงจากกฎของคูลอมป์\n",
        "Q1 = 3e-4\n",
        "Q2 = -1e-4\n",
        "\n",
        "F2 = Q1*Q2 / (4*pi*epsilon_0)*R / R.norm()**3\n",
        "F2"
      ]
    },
    {
      "cell_type": "code",
      "execution_count": null,
      "id": "72eefb4c-d9d5-4eb4-84de-75a62df3c47b",
      "metadata": {
        "editable": true,
        "tags": [],
        "id": "72eefb4c-d9d5-4eb4-84de-75a62df3c47b",
        "outputId": "e063d90f-3d25-46b2-f000-41528f2ac3a5",
        "colab": {
          "base_uri": "https://localhost:8080/",
          "height": 37
        }
      },
      "outputs": [
        {
          "output_type": "execute_result",
          "data": {
            "text/plain": [
              "29.9585059742039"
            ],
            "text/latex": "$\\displaystyle 29.9585059742039$"
          },
          "metadata": {},
          "execution_count": 11
        }
      ],
      "source": [
        "# (optional) หาขนาดของแรง\n",
        "F2.norm()\n"
      ]
    },
    {
      "cell_type": "markdown",
      "id": "a5d1ac0f-0caa-48de-9976-ddd71c54d2b8",
      "metadata": {
        "editable": true,
        "tags": [],
        "id": "a5d1ac0f-0caa-48de-9976-ddd71c54d2b8"
      },
      "source": [
        "### Activity 3.1\n",
        "จากโจทย์ในตัวอย่างที่ 2.1 จงหาแรงที่กระทำกับประจุ $Q_1$ เนื่องจากประจุ $Q_2$"
      ]
    },
    {
      "cell_type": "code",
      "execution_count": null,
      "id": "3814b0d3-ef1d-46f7-b5a9-2d25ee2dddb0",
      "metadata": {
        "editable": false,
        "tags": [],
        "id": "3814b0d3-ef1d-46f7-b5a9-2d25ee2dddb0"
      },
      "outputs": [],
      "source": [
        "import sympy as smp\n",
        "from scipy.constants import epsilon_0, pi"
      ]
    },
    {
      "cell_type": "code",
      "execution_count": null,
      "id": "58fe657e-8213-4655-b0ee-38f1ac7af3c9",
      "metadata": {
        "deletable": false,
        "editable": true,
        "nbgrader": {
          "cell_type": "code",
          "checksum": "05fa18c715c75dbcb73852cbe6d4d09f",
          "grade": false,
          "grade_id": "activity_3_1",
          "locked": false,
          "schema_version": 3,
          "solution": true,
          "task": false
        },
        "tags": [],
        "id": "58fe657e-8213-4655-b0ee-38f1ac7af3c9"
      },
      "outputs": [],
      "source": [
        "def F_1():\n",
        "    # YOUR CODE HERE\n",
        "    r1 = smp.Matrix([1, 2, 3])\n",
        "    r2 = smp.Matrix([2, 0, 5])\n",
        "\n",
        "    R = r1 - r2\n",
        "    Q1 = 3e-4\n",
        "    Q2 = -1e-4\n",
        "\n",
        "    F1 = Q1*Q2 / (4*pi*epsilon_0)*R / R.norm()**3\n",
        "    return F1\n",
        "\n",
        "    raise NotImplementedError()"
      ]
    },
    {
      "cell_type": "code",
      "execution_count": null,
      "id": "03318b48-8168-48f1-9f59-b7ebbb90ed0f",
      "metadata": {
        "editable": true,
        "tags": [],
        "id": "03318b48-8168-48f1-9f59-b7ebbb90ed0f",
        "outputId": "e4887ff9-e4bf-4998-d315-b2cb2f1ff08f",
        "colab": {
          "base_uri": "https://localhost:8080/",
          "height": 78
        }
      },
      "outputs": [
        {
          "output_type": "execute_result",
          "data": {
            "text/plain": [
              "Matrix([\n",
              "[ 9.98616865806797],\n",
              "[-19.9723373161359],\n",
              "[ 19.9723373161359]])"
            ],
            "text/latex": "$\\displaystyle \\left[\\begin{matrix}9.98616865806797\\\\-19.9723373161359\\\\19.9723373161359\\end{matrix}\\right]$"
          },
          "metadata": {},
          "execution_count": 3
        }
      ],
      "source": [
        "# ทดสอบ F_1()\n",
        "F_1()"
      ]
    },
    {
      "cell_type": "code",
      "execution_count": null,
      "id": "2c2023a9-2725-443d-ad8e-6d4a2bf2b5fe",
      "metadata": {
        "deletable": false,
        "editable": false,
        "nbgrader": {
          "cell_type": "code",
          "checksum": "0530d227938df68a0e2ea7dd240dd1e6",
          "grade": true,
          "grade_id": "test_3_1",
          "locked": true,
          "points": 1,
          "schema_version": 3,
          "solution": false,
          "task": false
        },
        "tags": [],
        "id": "2c2023a9-2725-443d-ad8e-6d4a2bf2b5fe"
      },
      "outputs": [],
      "source": [
        "# ห้ามแก้ไข Cell นี้โดยเด็ดขาด\n",
        "assert 29.957 <= F_1().norm() <= 29.959"
      ]
    },
    {
      "cell_type": "markdown",
      "id": "1172b4f6-b40f-41cd-946f-694f81a24174",
      "metadata": {
        "editable": true,
        "tags": [],
        "id": "1172b4f6-b40f-41cd-946f-694f81a24174"
      },
      "source": [
        "## 2.2 ความเข้มสนามไฟฟ้า\n",
        "สนามไฟฟ้า (Electric Field Intensity) เนื่องจากประจุแบบจุดที่วางอยู่ที่จุดกำเนิด\n",
        "\n",
        "$$\\mathbf{E(r)}=\\frac{Q}{4\\pi\\epsilon_0}\\frac{\\mathbf{r}}{|\\mathbf{r}|^3},\\qquad\\mathrm{V/m}$$\n",
        "\n",
        "เมื่อ $\\mathbf{r}$ คือ เวคเตอร์ตำแหน่งของจุดสังเกต\n",
        "\n",
        "สนามไฟฟ้า เนื่องจากประจุแบบจุดที่วางอยู่ที่จุดใด ๆ ซึ่งระบุโดย $\\mathbf{r'}$\n",
        "\n",
        "$$\\mathbf{E(r)}=\\frac{Q}{4\\pi\\epsilon_0}\\frac{\\mathbf{r-r'}}{|\\mathbf{r-r'}|^3}\\qquad\\mathrm{V/m}$$\n",
        "\n",
        "**ตัวอย่าง 2.2** จงหาสนามไฟฟ้า $\\mathbf{E}(x, y, z)$ เนื่องจากประจุแบบจุดขนาด $Q$ ที่วางอยู่ที่จุดกำเนิด ณ จุด $(x, y, z)$ ใด ๆ"
      ]
    },
    {
      "cell_type": "code",
      "execution_count": null,
      "id": "65dab80e-49eb-48e8-9893-ad717230c3e5",
      "metadata": {
        "editable": true,
        "tags": [],
        "id": "65dab80e-49eb-48e8-9893-ad717230c3e5"
      },
      "outputs": [],
      "source": [
        "from scipy.constants import pi , epsilon_0\n",
        "epsilon_0\n",
        "\n",
        "import sympy as smp\n",
        "import scipy.constants as sp\n",
        "\n",
        "# กำหนดตัวแปร \"ต้น\" ต่าง ๆ ที่ใช้ใน sympy\n",
        "Q, x, y, z, pi, epsilon_0 = smp.symbols('Q x y z pi epsilon_0', real=True)"
      ]
    },
    {
      "cell_type": "code",
      "execution_count": null,
      "id": "993ca308-4c21-4409-b548-b1f6d6a27aa6",
      "metadata": {
        "editable": true,
        "tags": [],
        "id": "993ca308-4c21-4409-b548-b1f6d6a27aa6",
        "outputId": "d2f7be6d-2e26-48e5-f92d-f75a7f6f83ed",
        "colab": {
          "base_uri": "https://localhost:8080/",
          "height": 78
        }
      },
      "outputs": [
        {
          "output_type": "execute_result",
          "data": {
            "text/plain": [
              "Matrix([\n",
              "[x],\n",
              "[y],\n",
              "[z]])"
            ],
            "text/latex": "$\\displaystyle \\left[\\begin{matrix}x\\\\y\\\\z\\end{matrix}\\right]$"
          },
          "metadata": {},
          "execution_count": 25
        }
      ],
      "source": [
        "# position vector r ที่กำหนดจุดสังเกต\n",
        "r = smp.Matrix([x,y,z])\n",
        "r"
      ]
    },
    {
      "cell_type": "code",
      "execution_count": null,
      "id": "51103f5c-ac5b-4840-9705-731d07228c04",
      "metadata": {
        "editable": true,
        "tags": [],
        "id": "51103f5c-ac5b-4840-9705-731d07228c04",
        "outputId": "0fd778b7-50be-49b5-8394-0857c59e4e8e",
        "colab": {
          "base_uri": "https://localhost:8080/",
          "height": 107
        }
      },
      "outputs": [
        {
          "output_type": "execute_result",
          "data": {
            "text/plain": [
              "Matrix([\n",
              "[Q*x/(4*epsilon_0*pi*(x**2 + y**2 + z**2)**(3/2))],\n",
              "[Q*y/(4*epsilon_0*pi*(x**2 + y**2 + z**2)**(3/2))],\n",
              "[Q*z/(4*epsilon_0*pi*(x**2 + y**2 + z**2)**(3/2))]])"
            ],
            "text/latex": "$\\displaystyle \\left[\\begin{matrix}\\frac{Q x}{4 \\epsilon_{0} \\pi \\left(x^{2} + y^{2} + z^{2}\\right)^{\\frac{3}{2}}}\\\\\\frac{Q y}{4 \\epsilon_{0} \\pi \\left(x^{2} + y^{2} + z^{2}\\right)^{\\frac{3}{2}}}\\\\\\frac{Q z}{4 \\epsilon_{0} \\pi \\left(x^{2} + y^{2} + z^{2}\\right)^{\\frac{3}{2}}}\\end{matrix}\\right]$"
          },
          "metadata": {},
          "execution_count": 26
        }
      ],
      "source": [
        "# สนามไฟฟ้า E จากกฎของคูลอมป์\n",
        "E = Q/(4*pi*epsilon_0)*r/r.norm()**3\n",
        "E"
      ]
    },
    {
      "cell_type": "code",
      "execution_count": null,
      "id": "e112bdfb-f136-43d7-8938-0fe4b814e8b3",
      "metadata": {
        "editable": true,
        "tags": [],
        "id": "e112bdfb-f136-43d7-8938-0fe4b814e8b3",
        "outputId": "f353bb7e-6c32-4390-a39b-a62619b129ea",
        "colab": {
          "base_uri": "https://localhost:8080/",
          "height": 81
        }
      },
      "outputs": [
        {
          "output_type": "execute_result",
          "data": {
            "text/plain": [
              "Matrix([\n",
              "[998.616865806797*sqrt(3)],\n",
              "[998.616865806797*sqrt(3)],\n",
              "[998.616865806797*sqrt(3)]])"
            ],
            "text/latex": "$\\displaystyle \\left[\\begin{matrix}998.616865806797 \\sqrt{3}\\\\998.616865806797 \\sqrt{3}\\\\998.616865806797 \\sqrt{3}\\end{matrix}\\right]$"
          },
          "metadata": {},
          "execution_count": 27
        }
      ],
      "source": [
        "# ทดลองแ ทนค่า เพื่อหาค่าที่เป็นตัวเลข (Numerical Values)\n",
        "E_sym = E.subs({Q: 1e-6, pi: sp.pi, epsilon_0: sp.epsilon_0})\n",
        "E_sym.subs({x: 1, y: 1 ,z: 1})"
      ]
    },
    {
      "cell_type": "markdown",
      "id": "8c45de80-9331-41ac-a561-6df34c3503d9",
      "metadata": {
        "editable": true,
        "tags": [],
        "id": "8c45de80-9331-41ac-a561-6df34c3503d9"
      },
      "source": [
        "### Activity 2.2\n",
        "จงปรับแก้ Code ข้างต้น เพื่อสร้างฟังก์ชัน E() ที่จะ return สนามไฟฟ้า ณ ตำแหน่ง $(x, y, z)$ ใด ๆ เนื่องจากประจุแบบจุดที่วางอยู่ ณ ตำแหน่ง $(x', y', z')$\n",
        "\n",
        "**หมายเหตุ** การที่กำหนดให้ต้องตอบในรูปฟังก์ชัน เพื่อประโยชน์ของการตรวจคำตอบอัตโนมัติ"
      ]
    },
    {
      "cell_type": "code",
      "execution_count": null,
      "id": "dfdb1b05-d418-4d12-ac6b-230d7b0c4825",
      "metadata": {
        "editable": true,
        "tags": [],
        "id": "dfdb1b05-d418-4d12-ac6b-230d7b0c4825",
        "outputId": "baa076e1-cd20-41b7-b3a0-5aafab6a9316",
        "colab": {
          "base_uri": "https://localhost:8080/",
          "height": 139
        }
      },
      "outputs": [
        {
          "output_type": "execute_result",
          "data": {
            "text/plain": [
              "Matrix([\n",
              "[Q*(x - x')/(4*epsilon_0*pi*((x - x')**2 + (y - y')**2 + (z - z')**2)**(3/2))],\n",
              "[Q*(y - y')/(4*epsilon_0*pi*((x - x')**2 + (y - y')**2 + (z - z')**2)**(3/2))],\n",
              "[Q*(z - z')/(4*epsilon_0*pi*((x - x')**2 + (y - y')**2 + (z - z')**2)**(3/2))]])"
            ],
            "text/latex": "$\\displaystyle \\left[\\begin{matrix}\\frac{Q \\left(x - x'\\right)}{4 \\epsilon_{0} \\pi \\left(\\left(x - x'\\right)^{2} + \\left(y - y'\\right)^{2} + \\left(z - z'\\right)^{2}\\right)^{\\frac{3}{2}}}\\\\\\frac{Q \\left(y - y'\\right)}{4 \\epsilon_{0} \\pi \\left(\\left(x - x'\\right)^{2} + \\left(y - y'\\right)^{2} + \\left(z - z'\\right)^{2}\\right)^{\\frac{3}{2}}}\\\\\\frac{Q \\left(z - z'\\right)}{4 \\epsilon_{0} \\pi \\left(\\left(x - x'\\right)^{2} + \\left(y - y'\\right)^{2} + \\left(z - z'\\right)^{2}\\right)^{\\frac{3}{2}}}\\end{matrix}\\right]$"
          },
          "metadata": {},
          "execution_count": 30
        }
      ],
      "source": [
        "# เพื่อความสะดวกในการทดสอบ ยังไม่ต้องนำ Code ใส่ในฟังก์ชัน\n",
        "\n",
        "import sympy as smp\n",
        "# กำหนดตัวแปรต้นที่ต้องใช้\n",
        "Q, pi, epsilon_0 = smp.symbols('Q pi epsilon_0', real=True)\n",
        "x, y, z, xp, yp, zp = smp.symbols(\"x y z x' y' z'\", real=True)\n",
        "\n",
        "# YOUR CODE HERE\n",
        "r = smp.Matrix([x,y,z])\n",
        "rp = smp.Matrix([xp,yp,zp])\n",
        "\n",
        "R = r-rp\n",
        "\n",
        "Q/(4*pi*epsilon_0)*R/R.norm()**3\n"
      ]
    },
    {
      "cell_type": "code",
      "execution_count": null,
      "id": "5b50d4aa-29c0-442b-aeca-b1d2216cbf68",
      "metadata": {
        "deletable": false,
        "editable": true,
        "nbgrader": {
          "cell_type": "code",
          "checksum": "139043cebeae1df92b3871625272ad42",
          "grade": false,
          "grade_id": "activity_2_2",
          "locked": false,
          "schema_version": 3,
          "solution": true,
          "task": false
        },
        "tags": [],
        "id": "5b50d4aa-29c0-442b-aeca-b1d2216cbf68"
      },
      "outputs": [],
      "source": [
        "import sympy as smp\n",
        "# เมื่อทดสอบจนเป็นที่พอใจแล้ว ให้นำ Code มาใส่ในฟังก์ชัน E() เพื่อให้ระบบสามารถตรวจได้\n",
        "def E():\n",
        "    Q, pi, epsilon_0 = smp.symbols('Q pi epsilon_0', real=True)\n",
        "    x, y, z, xp, yp, zp = smp.symbols(\"x y z x' y' z'\", real=True)\n",
        "\n",
        "    # YOUR CODE HERE\n",
        "    r = smp.Matrix([x,y,z])\n",
        "    rp = smp.Matrix([xp,yp,zp])\n",
        "\n",
        "    R = r-rp\n",
        "\n",
        "    return Q/(4*pi*epsilon_0)*R/R.norm()**3"
      ]
    },
    {
      "cell_type": "code",
      "execution_count": null,
      "id": "54503cb3-7d75-4a3d-b519-698d16398ec6",
      "metadata": {
        "editable": true,
        "tags": [],
        "id": "54503cb3-7d75-4a3d-b519-698d16398ec6",
        "outputId": "8bba0335-f0a0-4123-9c1e-66a712723106",
        "colab": {
          "base_uri": "https://localhost:8080/",
          "height": 139
        }
      },
      "outputs": [
        {
          "output_type": "execute_result",
          "data": {
            "text/plain": [
              "Matrix([\n",
              "[Q*(x - x')/(4*epsilon_0*pi*((x - x')**2 + (y - y')**2 + (z - z')**2)**(3/2))],\n",
              "[Q*(y - y')/(4*epsilon_0*pi*((x - x')**2 + (y - y')**2 + (z - z')**2)**(3/2))],\n",
              "[Q*(z - z')/(4*epsilon_0*pi*((x - x')**2 + (y - y')**2 + (z - z')**2)**(3/2))]])"
            ],
            "text/latex": "$\\displaystyle \\left[\\begin{matrix}\\frac{Q \\left(x - x'\\right)}{4 \\epsilon_{0} \\pi \\left(\\left(x - x'\\right)^{2} + \\left(y - y'\\right)^{2} + \\left(z - z'\\right)^{2}\\right)^{\\frac{3}{2}}}\\\\\\frac{Q \\left(y - y'\\right)}{4 \\epsilon_{0} \\pi \\left(\\left(x - x'\\right)^{2} + \\left(y - y'\\right)^{2} + \\left(z - z'\\right)^{2}\\right)^{\\frac{3}{2}}}\\\\\\frac{Q \\left(z - z'\\right)}{4 \\epsilon_{0} \\pi \\left(\\left(x - x'\\right)^{2} + \\left(y - y'\\right)^{2} + \\left(z - z'\\right)^{2}\\right)^{\\frac{3}{2}}}\\end{matrix}\\right]$"
          },
          "metadata": {},
          "execution_count": 33
        }
      ],
      "source": [
        "# Test calling E\n",
        "E()\n"
      ]
    },
    {
      "cell_type": "code",
      "execution_count": null,
      "id": "34e477e9-8647-498b-8bbf-8b72f1439ece",
      "metadata": {
        "deletable": false,
        "editable": false,
        "nbgrader": {
          "cell_type": "code",
          "checksum": "e2be98d6d87461487d120e6b5b019719",
          "grade": true,
          "grade_id": "test_2_2",
          "locked": true,
          "points": 1,
          "schema_version": 3,
          "solution": false,
          "task": false
        },
        "tags": [],
        "id": "34e477e9-8647-498b-8bbf-8b72f1439ece",
        "outputId": "883615d8-e7e4-4c5a-def0-2f2fb8ab2c13",
        "colab": {
          "base_uri": "https://localhost:8080/",
          "height": 139
        }
      },
      "outputs": [
        {
          "output_type": "display_data",
          "data": {
            "text/plain": [
              "Matrix([\n",
              "[Q*(x - x')/(4*epsilon_0*pi*((x - x')**2 + (y - y')**2 + (z - z')**2)**(3/2))],\n",
              "[Q*(y - y')/(4*epsilon_0*pi*((x - x')**2 + (y - y')**2 + (z - z')**2)**(3/2))],\n",
              "[Q*(z - z')/(4*epsilon_0*pi*((x - x')**2 + (y - y')**2 + (z - z')**2)**(3/2))]])"
            ],
            "text/latex": "$\\displaystyle \\left[\\begin{matrix}\\frac{Q \\left(x - x'\\right)}{4 \\epsilon_{0} \\pi \\left(\\left(x - x'\\right)^{2} + \\left(y - y'\\right)^{2} + \\left(z - z'\\right)^{2}\\right)^{\\frac{3}{2}}}\\\\\\frac{Q \\left(y - y'\\right)}{4 \\epsilon_{0} \\pi \\left(\\left(x - x'\\right)^{2} + \\left(y - y'\\right)^{2} + \\left(z - z'\\right)^{2}\\right)^{\\frac{3}{2}}}\\\\\\frac{Q \\left(z - z'\\right)}{4 \\epsilon_{0} \\pi \\left(\\left(x - x'\\right)^{2} + \\left(y - y'\\right)^{2} + \\left(z - z'\\right)^{2}\\right)^{\\frac{3}{2}}}\\end{matrix}\\right]$"
          },
          "metadata": {}
        }
      ],
      "source": [
        "# ห้ามแก้ไข Cell นี้โดยเด็ดขาด\n",
        "# Test Calling E()\n",
        "from IPython.display import display # ใช้ display() จาก IPython เพื่อแสดงสมการใน notebook อย่างสวยงาม\n",
        "display(E())\n"
      ]
    },
    {
      "cell_type": "markdown",
      "id": "cc250190-52b2-4cd9-89d6-f8b1086a9df5",
      "metadata": {
        "editable": true,
        "tags": [],
        "id": "cc250190-52b2-4cd9-89d6-f8b1086a9df5"
      },
      "source": [
        "### การแทนค่าตัวเลขใน Sympy Expressions\n",
        "\n",
        "ทำได้โดยการใช้ method .subs() และกำหนด input ของ method เป็น dict ที่ระบุค่าตัวเลขของตัวแปรที่ต้องการแทนค่า"
      ]
    },
    {
      "cell_type": "code",
      "execution_count": null,
      "id": "a1ac64a1-74b9-46c4-8f47-1dda80045d9c",
      "metadata": {
        "editable": false,
        "tags": [],
        "id": "a1ac64a1-74b9-46c4-8f47-1dda80045d9c",
        "outputId": "104409e2-a44d-4365-d328-d1bd624fec5f",
        "colab": {
          "base_uri": "https://localhost:8080/",
          "height": 139
        }
      },
      "outputs": [
        {
          "output_type": "execute_result",
          "data": {
            "text/plain": [
              "Matrix([\n",
              "[Q*(x - x')/(4*epsilon_0*pi*((x - x')**2 + (y - y')**2 + (z - z')**2)**(3/2))],\n",
              "[Q*(y - y')/(4*epsilon_0*pi*((x - x')**2 + (y - y')**2 + (z - z')**2)**(3/2))],\n",
              "[Q*(z - z')/(4*epsilon_0*pi*((x - x')**2 + (y - y')**2 + (z - z')**2)**(3/2))]])"
            ],
            "text/latex": "$\\displaystyle \\left[\\begin{matrix}\\frac{Q \\left(x - x'\\right)}{4 \\epsilon_{0} \\pi \\left(\\left(x - x'\\right)^{2} + \\left(y - y'\\right)^{2} + \\left(z - z'\\right)^{2}\\right)^{\\frac{3}{2}}}\\\\\\frac{Q \\left(y - y'\\right)}{4 \\epsilon_{0} \\pi \\left(\\left(x - x'\\right)^{2} + \\left(y - y'\\right)^{2} + \\left(z - z'\\right)^{2}\\right)^{\\frac{3}{2}}}\\\\\\frac{Q \\left(z - z'\\right)}{4 \\epsilon_{0} \\pi \\left(\\left(x - x'\\right)^{2} + \\left(y - y'\\right)^{2} + \\left(z - z'\\right)^{2}\\right)^{\\frac{3}{2}}}\\end{matrix}\\right]$"
          },
          "metadata": {},
          "execution_count": 35
        }
      ],
      "source": [
        "# กำหนดให้ E_sym เก็บเวคเตอร์สนามไฟฟ้า ณ จุดใด ๆ\n",
        "E_sym = E()\n",
        "E_sym"
      ]
    },
    {
      "cell_type": "markdown",
      "id": "c8a89944-c3e3-4526-a8d5-769beb322bb0",
      "metadata": {
        "editable": false,
        "tags": [],
        "id": "c8a89944-c3e3-4526-a8d5-769beb322bb0"
      },
      "source": [
        "สมมติให้ประจุ $Q=10\\mu\\mathrm{C}$ วางอยู่ที่จุดกำเนิด ต้องการหาสนามที่ตำแหน่ง $\\mathbf{r}=\\begin{bmatrix}1\\\\2\\\\-1\\end{bmatrix}$"
      ]
    },
    {
      "cell_type": "code",
      "execution_count": null,
      "id": "f2e6c1d3-bbe1-4b71-9f5d-ccb2976e3d10",
      "metadata": {
        "editable": true,
        "tags": [],
        "id": "f2e6c1d3-bbe1-4b71-9f5d-ccb2976e3d10",
        "outputId": "a2d4b9a6-3bc4-402b-a9d2-deaff33adf5b",
        "colab": {
          "base_uri": "https://localhost:8080/",
          "height": 78
        }
      },
      "outputs": [
        {
          "output_type": "execute_result",
          "data": {
            "text/plain": [
              "Matrix([\n",
              "[ 6115.25442441009],\n",
              "[ 12230.5088488202],\n",
              "[-6115.25442441009]])"
            ],
            "text/latex": "$\\displaystyle \\left[\\begin{matrix}6115.25442441009\\\\12230.5088488202\\\\-6115.25442441009\\end{matrix}\\right]$"
          },
          "metadata": {},
          "execution_count": 41
        }
      ],
      "source": [
        "# แทนค่า\n",
        "import scipy.constants as sp\n",
        "\n",
        "E_sym.subs({\n",
        "    Q: 10e-6,\n",
        "    xp: 0 , yp:0 , zp:0,\n",
        "    x: 1 , y:2 , z:-1,\n",
        "    pi: sp.pi, epsilon_0: sp.epsilon_0\n",
        "}).evalf()\n"
      ]
    },
    {
      "cell_type": "markdown",
      "id": "4e64e867-361c-4516-868c-c75d2c343ff1",
      "metadata": {
        "editable": true,
        "tags": [],
        "id": "4e64e867-361c-4516-868c-c75d2c343ff1"
      },
      "source": [
        "### การแปลง Sympy Expression เป็น Numerical Function\n",
        "\n",
        "อีกวิธีหนึ่งในการคำนวณค่าตัวเลขของของสนาม $\\mathbf{E(r)}$ คือ การแปลง Sympy Expression ให้เป็น Python Function ที่สามารถเรียกใช้งานได้ตามปกติ\n",
        "\n",
        "Function ที่ใช้ในการแปลง Sympy Expression ให้เป็น Python Function คือ sympy.lambdify()"
      ]
    },
    {
      "cell_type": "code",
      "execution_count": null,
      "id": "a6eab366-3402-440f-b9dc-f15075454738",
      "metadata": {
        "editable": true,
        "tags": [],
        "id": "a6eab366-3402-440f-b9dc-f15075454738",
        "outputId": "5f22bc06-b105-4557-d0d4-60d5f1d9219f",
        "colab": {
          "base_uri": "https://localhost:8080/",
          "height": 60
        }
      },
      "outputs": [
        {
          "output_type": "execute_result",
          "data": {
            "text/plain": [
              "89875.5179226117*x/(x**2 + y**2 + z**2)**(3/2)"
            ],
            "text/latex": "$\\displaystyle \\frac{89875.5179226117 x}{\\left(x^{2} + y^{2} + z^{2}\\right)^{\\frac{3}{2}}}$"
          },
          "metadata": {},
          "execution_count": 44
        }
      ],
      "source": [
        "import scipy.constants as sp\n",
        "# กำหนด Sympy Expression E_sym โดยรับค่ามาจากฟังก์ชัน E() ก่อนหน้า\n",
        "E_sym = E()\n",
        "\n",
        "# แทนค่าตัวเลขในตัวแปรที่ทราบค่าแล้ว\n",
        "\n",
        "E_s = E_sym.subs({\n",
        "    Q: 10e-6,\n",
        "    xp: 0 , yp:0 , zp:0,\n",
        "    pi: sp.pi, epsilon_0: sp.epsilon_0\n",
        "})\n",
        "E_s[0]"
      ]
    },
    {
      "cell_type": "code",
      "execution_count": null,
      "id": "a7cfcb6f-bc8c-47b8-bcf9-e762b6212d1c",
      "metadata": {
        "editable": true,
        "tags": [],
        "id": "a7cfcb6f-bc8c-47b8-bcf9-e762b6212d1c",
        "outputId": "b6baf4a9-ced2-49d2-9538-c6f34279d206",
        "colab": {
          "base_uri": "https://localhost:8080/"
        }
      },
      "outputs": [
        {
          "output_type": "stream",
          "name": "stdout",
          "text": [
            "Requirement already satisfied: Numpy in /usr/local/lib/python3.10/dist-packages (1.26.4)\n"
          ]
        }
      ],
      "source": [
        "!pip install Numpy\n",
        "import numpy as np\n",
        "# lambdify\n",
        "E_x = smp.lambdify([x, y ,z], E_s[0])\n",
        "E_y = smp.lambdify([x, y ,z], E_s[1])\n",
        "E_z = smp.lambdify([x, y ,z], E_s[2])\n",
        "\n",
        "def E_func(x,y,z):\n",
        "    Ex = E_x(x, y, z)\n",
        "    Ey = E_y(x, y, z)\n",
        "    Ez = E_z(x, y, z)\n",
        "    return np.array([Ex, Ey, Ez])\n"
      ]
    },
    {
      "cell_type": "code",
      "execution_count": null,
      "id": "b04d573f-d76b-41d4-b994-0c04161179a9",
      "metadata": {
        "editable": true,
        "tags": [],
        "id": "b04d573f-d76b-41d4-b994-0c04161179a9",
        "outputId": "f9f533de-9e04-4433-fb85-817ed8fc4faf",
        "colab": {
          "base_uri": "https://localhost:8080/"
        }
      },
      "outputs": [
        {
          "output_type": "execute_result",
          "data": {
            "text/plain": [
              "array([ 6115.25442441, 12230.50884882, -6115.25442441])"
            ]
          },
          "metadata": {},
          "execution_count": 56
        }
      ],
      "source": [
        "# ทดสอบ Function E_func\n",
        "E_func(1, 2, -1)"
      ]
    },
    {
      "cell_type": "markdown",
      "id": "85eb362b-decb-4988-88e6-905aeceac205",
      "metadata": {
        "editable": true,
        "tags": [],
        "id": "85eb362b-decb-4988-88e6-905aeceac205"
      },
      "source": [
        "### Activity 2.2.2\n",
        "จงปรับปรุง Code ข้างต้น เพื่อสร้าง Python Function ที่รับค่าตำแหน่ง $(x, y, z)$ และ return ค่าของสนามไฟฟ้า $\\mathbf{E(r)}$ ที่เกิดขึ้นเนื่องจากประจุแบบจุดขนาด $-2.5~\\mu\\mathrm{C}$ ที่วางอยู่ ณ ตำแหน่ง $(1, -1, 0)~\\mathrm{m}$"
      ]
    },
    {
      "cell_type": "code",
      "execution_count": null,
      "id": "36da79f2-ce51-430c-bbcd-8e8033894cba",
      "metadata": {
        "editable": true,
        "tags": [],
        "id": "36da79f2-ce51-430c-bbcd-8e8033894cba",
        "colab": {
          "base_uri": "https://localhost:8080/",
          "height": 116
        },
        "outputId": "46e6d277-6406-47f8-d09b-4ce8be5f81c5"
      },
      "outputs": [
        {
          "output_type": "execute_result",
          "data": {
            "text/plain": [
              "Matrix([\n",
              "[ (22468.8794806529 - 22468.8794806529*x)/(z**2 + (x - 1)**2 + (y + 1)**2)**(3/2)],\n",
              "[(-22468.8794806529*y - 22468.8794806529)/(z**2 + (x - 1)**2 + (y + 1)**2)**(3/2)],\n",
              "[                     -22468.8794806529*z/(z**2 + (x - 1)**2 + (y + 1)**2)**(3/2)]])"
            ],
            "text/latex": "$\\displaystyle \\left[\\begin{matrix}\\frac{22468.8794806529 - 22468.8794806529 x}{\\left(z^{2} + \\left(x - 1\\right)^{2} + \\left(y + 1\\right)^{2}\\right)^{\\frac{3}{2}}}\\\\\\frac{- 22468.8794806529 y - 22468.8794806529}{\\left(z^{2} + \\left(x - 1\\right)^{2} + \\left(y + 1\\right)^{2}\\right)^{\\frac{3}{2}}}\\\\- \\frac{22468.8794806529 z}{\\left(z^{2} + \\left(x - 1\\right)^{2} + \\left(y + 1\\right)^{2}\\right)^{\\frac{3}{2}}}\\end{matrix}\\right]$"
          },
          "metadata": {},
          "execution_count": 7
        }
      ],
      "source": [
        "# ใช้ Sympy สร้าง Expression สนามไฟฟ้า E\n",
        "import sympy as smp\n",
        "from scipy.constants import pi, epsilon_0\n",
        "\n",
        "# กำหนดตัวแปรต้นที่ใช้\n",
        "x, y, z = smp.symbols('x y z', real=True)\n",
        "\n",
        "# เวคเตอร์ตำแหน่ง/เวคเตอร์ขจัด\n",
        "r = smp.Matrix([x,y,z])\n",
        "rp = smp.Matrix([1,-1,0])\n",
        "\n",
        "R = r-rp\n",
        "\n",
        "# ขนาดของประจุ\n",
        "Q = -2.5e-6\n",
        "\n",
        "# สนามไฟฟ้า E\n",
        "E = Q/(4*pi*epsilon_0)*R/R.norm()**3\n",
        "\n",
        "E"
      ]
    },
    {
      "cell_type": "code",
      "execution_count": null,
      "id": "5aac6612-6bec-4fef-af38-7c9465920a52",
      "metadata": {
        "editable": true,
        "tags": [],
        "id": "5aac6612-6bec-4fef-af38-7c9465920a52",
        "colab": {
          "base_uri": "https://localhost:8080/"
        },
        "outputId": "4181c493-3015-45ef-f504-fa8b8edc217a"
      },
      "outputs": [
        {
          "output_type": "execute_result",
          "data": {
            "text/plain": [
              "array([    0.        , -4019.35535176, -2009.67767588])"
            ]
          },
          "metadata": {},
          "execution_count": 18
        }
      ],
      "source": [
        "# ใช้ lambdify() แปลง E เป็น Python Function\n",
        "import numpy as np\n",
        "Ex = smp.lambdify([x, y ,z], E[0])\n",
        "Ey = smp.lambdify([x, y ,z], E[1])\n",
        "Ez = smp.lambdify([x, y ,z], E[2])\n",
        "\n",
        "def E_func(x, y, z):\n",
        "    return np.array([\n",
        "      Ex(x, y, z),\n",
        "      Ey(x, y, z),\n",
        "      Ez(x, y, z)\n",
        "    ])\n",
        "\n",
        "E_func(1, 1, 1)"
      ]
    },
    {
      "cell_type": "code",
      "execution_count": null,
      "id": "477022ce-5ac2-417d-8bad-73b56c992834",
      "metadata": {
        "deletable": false,
        "editable": false,
        "nbgrader": {
          "cell_type": "code",
          "checksum": "98004c439e8ab13ba4162bbbbe6fbc63",
          "grade": true,
          "grade_id": "test_2_2_2",
          "locked": true,
          "points": 1,
          "schema_version": 3,
          "solution": false,
          "task": false
        },
        "tags": [],
        "id": "477022ce-5ac2-417d-8bad-73b56c992834"
      },
      "outputs": [],
      "source": [
        "# ห้ามแก้ไข Cell นี้โดยเด็ดขาด\n",
        "\n",
        "# ตรวจคำตอบ โดยการคำนวณแบบ numerical โดยตรงด้วย Numpy\n",
        "# หากนิสิตยังไม่เข้าใจส่วนนี้ ก็ยังไม่เป็นไร จะมีการกล่าวถึงต่อไปในภายหลัง\n",
        "\n",
        "from scipy.constants import pi, epsilon_0\n",
        "import numpy as np\n",
        "from numpy.linalg import norm\n",
        "\n",
        "Q = -2.5e-6\n",
        "rp = np.array([1, -1, 0])\n",
        "\n",
        "def E_numer(x, y, z):\n",
        "    r = np.array([x, y, z])\n",
        "    R = r - rp\n",
        "    return Q / (4 * pi * epsilon_0) * R / norm(R)**3\n",
        "\n",
        "# ตรวจคำตอบ\n",
        "assert np.abs(norm(E_func(1, 1, 1)) - norm(E_numer(1, 1, 1))) <= 0.001\n"
      ]
    },
    {
      "cell_type": "markdown",
      "id": "bf0a5cf8-b4b0-4063-8b7a-7b2bd1a39490",
      "metadata": {
        "editable": true,
        "tags": [],
        "id": "bf0a5cf8-b4b0-4063-8b7a-7b2bd1a39490"
      },
      "source": [
        "### การ Plot สนามไฟฟ้า\n",
        "เพื่อความสะดวกในวิชานี้ ได้เตรียม Library \"libemag\" สำหรับการ Plot สนามไฟฟ้าใน 2 มิติ นิสิตสามารถ download หรือ clone library ดังกล่าวได้จาก https://github.com ดังนี้\n",
        "\n",
        "https://github.com/nayot/libemag\n",
        "\n",
        "ให้นิสิต download หรือ clone library \"libemag\" ไปไว้ใน folder/directory เดียวกันกับที่ไฟล์ ipynb นี้อยู่ หรืออาจจะสร้าง shortcut หรือ symbolic link ไปที่ไฟล์ดังกล่าว"
      ]
    },
    {
      "cell_type": "code",
      "execution_count": 23,
      "id": "e8233e62-190f-431e-b12c-1a6605e7c34e",
      "metadata": {
        "editable": true,
        "tags": [],
        "id": "e8233e62-190f-431e-b12c-1a6605e7c34e",
        "colab": {
          "base_uri": "https://localhost:8080/",
          "height": 331
        },
        "outputId": "0f56817b-52bb-4d29-8af0-2e362713e60a"
      },
      "outputs": [
        {
          "output_type": "error",
          "ename": "ModuleNotFoundError",
          "evalue": "No module named 'libemag'",
          "traceback": [
            "\u001b[0;31m---------------------------------------------------------------------------\u001b[0m",
            "\u001b[0;31mModuleNotFoundError\u001b[0m                       Traceback (most recent call last)",
            "\u001b[0;32m<ipython-input-23-be8e8ee24f5c>\u001b[0m in \u001b[0;36m<cell line: 2>\u001b[0;34m()\u001b[0m\n\u001b[1;32m      1\u001b[0m \u001b[0;31m# ทดสอบว่า libemag ใช้การได้ / หากไม่มี error ถือว่าใช้ได้\u001b[0m\u001b[0;34m\u001b[0m\u001b[0;34m\u001b[0m\u001b[0m\n\u001b[0;32m----> 2\u001b[0;31m \u001b[0;32mfrom\u001b[0m \u001b[0mlibemag\u001b[0m\u001b[0;34m.\u001b[0m\u001b[0mplots\u001b[0m \u001b[0;32mimport\u001b[0m \u001b[0mfield_plot\u001b[0m\u001b[0;34m\u001b[0m\u001b[0;34m\u001b[0m\u001b[0m\n\u001b[0m",
            "\u001b[0;31mModuleNotFoundError\u001b[0m: No module named 'libemag'",
            "",
            "\u001b[0;31m---------------------------------------------------------------------------\u001b[0;32m\nNOTE: If your import is failing due to a missing package, you can\nmanually install dependencies using either !pip or !apt.\n\nTo view examples of installing some common dependencies, click the\n\"Open Examples\" button below.\n\u001b[0;31m---------------------------------------------------------------------------\u001b[0m\n"
          ],
          "errorDetails": {
            "actions": [
              {
                "action": "open_url",
                "actionText": "Open Examples",
                "url": "/notebooks/snippets/importing_libraries.ipynb"
              }
            ]
          }
        }
      ],
      "source": [
        "# ทดสอบว่า libemag ใช้การได้ / หากไม่มี error ถือว่าใช้ได้\n",
        "from libemag.plots import field_plot"
      ]
    },
    {
      "cell_type": "code",
      "source": [
        "from google.colab import drive\n",
        "drive.mount('/content/drive')"
      ],
      "metadata": {
        "id": "fNNIuxDvMl-1"
      },
      "id": "fNNIuxDvMl-1",
      "execution_count": null,
      "outputs": []
    },
    {
      "cell_type": "markdown",
      "id": "ec21133e-c259-4302-abb5-34cbf838c5d2",
      "metadata": {
        "editable": true,
        "tags": [],
        "id": "ec21133e-c259-4302-abb5-34cbf838c5d2"
      },
      "source": [
        "#### การใช้งานฟังก์ชัน field_plot()\n",
        "```python\n",
        "field_plot(field_func, num_grids=20,\\\n",
        "    x_min=-10, x_max=10, y_min=-10, y_max=10,\\\n",
        "    xlabel='x', ylabel='y', title='',\\\n",
        "    contour=False, cmap='plasma', streamline=False, normalising=True,\n",
        "    normalising_factor=0.05)\n",
        "```\n",
        "\n",
        "โดยที่ field_func() เป็นฟังก์ชัน (numerical) ที่ return np.array เวคเตอร์ 2 มิติ ของสนามเวคเตอร์ที่ตำแหน่ง (x, y)\n",
        "\n",
        "**ตัวอย่าง** มีประจุขนาด $1~\\mu\\mathrm{C}$ วางอยู่ที่จุดกำเนิด จงพล็อตสนามไฟฟ้า ณ ตำแหน่ง $(x, y)$ ใด ๆ ใน 2 มิติ"
      ]
    },
    {
      "cell_type": "code",
      "execution_count": null,
      "id": "f8bcf635-2e8a-4077-9985-c4917ae22f10",
      "metadata": {
        "editable": true,
        "tags": [],
        "id": "f8bcf635-2e8a-4077-9985-c4917ae22f10"
      },
      "outputs": [],
      "source": [
        "# import libraries ที่จำเป็น\n",
        "import sympy as smp\n",
        "import numpy as np\n",
        "from libemag.emag_initials import *\n",
        "from libemag.plots import field_plot"
      ]
    },
    {
      "cell_type": "code",
      "execution_count": null,
      "id": "158c2604-342e-4a72-a527-14d44bc46773",
      "metadata": {
        "editable": true,
        "tags": [],
        "id": "158c2604-342e-4a72-a527-14d44bc46773"
      },
      "outputs": [],
      "source": [
        "# กำหนดตัวแปรที่ต้องใช้ใน Sympy\n",
        "x, y = smp.symbols('x y', real=True)"
      ]
    },
    {
      "cell_type": "code",
      "execution_count": null,
      "id": "b4752c11-97c5-4eae-9301-596ffd5d4c70",
      "metadata": {
        "editable": true,
        "tags": [],
        "id": "b4752c11-97c5-4eae-9301-596ffd5d4c70"
      },
      "outputs": [],
      "source": [
        "# กำหนดค่า Q, r, r'\n",
        "Q = 1e-6\n",
        "r = smp.Matrix([x,y])\n",
        "rp = smp.Matrix([0,0])\n",
        "\n",
        "R = r-rp"
      ]
    },
    {
      "cell_type": "code",
      "execution_count": null,
      "id": "6626b3c1-0758-4e1e-b8e0-6dfd1e064b24",
      "metadata": {
        "editable": true,
        "tags": [],
        "id": "6626b3c1-0758-4e1e-b8e0-6dfd1e064b24",
        "outputId": "bf7da002-7b16-4013-cc5f-dd116b948ad8",
        "colab": {
          "base_uri": "https://localhost:8080/",
          "height": 81
        }
      },
      "outputs": [
        {
          "output_type": "execute_result",
          "data": {
            "text/plain": [
              "Matrix([\n",
              "[2.5e-7*x/(epsilon_0*pi*(x**2 + y**2)**(3/2))],\n",
              "[2.5e-7*y/(epsilon_0*pi*(x**2 + y**2)**(3/2))]])"
            ],
            "text/latex": "$\\displaystyle \\left[\\begin{matrix}\\frac{2.5 \\cdot 10^{-7} x}{\\epsilon_{0} \\pi \\left(x^{2} + y^{2}\\right)^{\\frac{3}{2}}}\\\\\\frac{2.5 \\cdot 10^{-7} y}{\\epsilon_{0} \\pi \\left(x^{2} + y^{2}\\right)^{\\frac{3}{2}}}\\end{matrix}\\right]$"
          },
          "metadata": {},
          "execution_count": 59
        }
      ],
      "source": [
        "# กฎของคูลอมป์\n",
        "E = Q/(4*pi*epsilon_0)*R/R.norm()**3\n",
        "E"
      ]
    },
    {
      "cell_type": "code",
      "execution_count": null,
      "id": "2447f4c4-6343-4013-bb21-24126eb5b358",
      "metadata": {
        "editable": true,
        "tags": [],
        "id": "2447f4c4-6343-4013-bb21-24126eb5b358",
        "outputId": "22e478e6-6a63-401e-b387-9c16afeff03d",
        "colab": {
          "base_uri": "https://localhost:8080/"
        }
      },
      "outputs": [
        {
          "output_type": "execute_result",
          "data": {
            "text/plain": [
              "array([3.36681481935508e-10/(epsilon_0*pi),\n",
              "       3.03013333741957e-9/(epsilon_0*pi)], dtype=object)"
            ]
          },
          "metadata": {},
          "execution_count": 64
        }
      ],
      "source": [
        "# Lambdify\n",
        "Ex = smp.lambdify([x, y], E[0])\n",
        "Ey = smp.lambdify([x, y], E[1])\n",
        "\n",
        "\n",
        "def E_func(x,y):\n",
        "    return np.array([\n",
        "      Ex(x, y),\n",
        "      Ey(x, y)\n",
        "    ])\n",
        "\n",
        "E_func(1,9)"
      ]
    },
    {
      "cell_type": "code",
      "execution_count": null,
      "id": "0b4b6cbd-3165-402a-83a9-c16a4381b6c0",
      "metadata": {
        "editable": true,
        "tags": [],
        "id": "0b4b6cbd-3165-402a-83a9-c16a4381b6c0"
      },
      "outputs": [],
      "source": [
        "# Plot\n",
        "import[]"
      ]
    }
  ],
  "metadata": {
    "kernelspec": {
      "display_name": "Python 3 (ipykernel)",
      "language": "python",
      "name": "python3"
    },
    "language_info": {
      "codemirror_mode": {
        "name": "ipython",
        "version": 3
      },
      "file_extension": ".py",
      "mimetype": "text/x-python",
      "name": "python",
      "nbconvert_exporter": "python",
      "pygments_lexer": "ipython3",
      "version": "3.11.7"
    },
    "colab": {
      "provenance": [],
      "include_colab_link": true
    }
  },
  "nbformat": 4,
  "nbformat_minor": 5
}